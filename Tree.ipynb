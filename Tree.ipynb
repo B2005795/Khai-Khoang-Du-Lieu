{
  "cells": [
    {
      "cell_type": "code",
      "source": [
        "from tensorflow import keras\n",
        "from keras.preprocessing.image import ImageDataGenerator\n",
        "from keras.models import Sequential\n",
        "from keras.layers import Dense, Dropout, Activation, Flatten\n",
        "from keras.layers import Convolution2D, MaxPooling2D\n",
        "import numpy as np\n",
        "import pandas as pd\n",
        "import matplotlib.pyplot as plt\n",
        "import seaborn as sns"
      ],
      "metadata": {
        "id": "VL2OetYs1dPk"
      },
      "execution_count": 1,
      "outputs": []
    },
    {
      "cell_type": "code",
      "source": [
        "#Kết nối google drive\n",
        "from google.colab import drive\n",
        "drive.mount('/content/drive')"
      ],
      "metadata": {
        "colab": {
          "base_uri": "https://localhost:8080/"
        },
        "id": "PlVt7mZ-1iJx",
        "outputId": "e8b7e057-f452-4536-962e-67551109680f"
      },
      "execution_count": 2,
      "outputs": [
        {
          "output_type": "stream",
          "name": "stdout",
          "text": [
            "Mounted at /content/drive\n"
          ]
        }
      ]
    },
    {
      "cell_type": "code",
      "source": [
        "train_path = \"/content/drive/MyDrive/KKDL/dataset_classifier/training/\"\n",
        "val_path = \"/content/drive/MyDrive/KKDL/dataset_classifier/validation/\"\n",
        "test_path = \"/content/drive/MyDrive/KKDL/dataset_classifier/testing/\"\n",
        "\n",
        "categories = ['stinkbug', 'stag-beetle', 'snail', 'red-spider', 'moth', 'mealybug-disease', 'maybug', 'leafroller', 'grasshopper', 'fruit-bores' ]"
      ],
      "metadata": {
        "id": "1AwIEewr1kz1"
      },
      "execution_count": 3,
      "outputs": []
    },
    {
      "cell_type": "code",
      "source": [
        "#Tăng cường dữ liệu\n",
        "train_datagen = ImageDataGenerator(\n",
        "    rescale=1./255,\n",
        "    zoom_range=0.2,\n",
        "    horizontal_flip=True,\n",
        "    vertical_flip=True\n",
        ")\n",
        "val_datagen = ImageDataGenerator(\n",
        "    rescale=1./255,\n",
        "    zoom_range=0.2,\n",
        "    horizontal_flip=True,\n",
        "    vertical_flip=True\n",
        ")"
      ],
      "metadata": {
        "id": "LeEOcUnM1uw7"
      },
      "execution_count": 4,
      "outputs": []
    },
    {
      "cell_type": "code",
      "source": [
        "train_generator = train_datagen.flow_from_directory(\n",
        "    train_path,\n",
        "    target_size=(44, 44),\n",
        "    batch_size=32,\n",
        "    class_mode='categorical'\n",
        ")\n",
        "\n",
        "val_generator = val_datagen.flow_from_directory(\n",
        "    val_path,\n",
        "    target_size=(44, 44),\n",
        "    batch_size=32,\n",
        "    class_mode='categorical'\n",
        ")"
      ],
      "metadata": {
        "colab": {
          "base_uri": "https://localhost:8080/"
        },
        "id": "0iFZ7UNg1yGS",
        "outputId": "eaad8460-08f3-41c5-911c-9d3bd6183ea7"
      },
      "execution_count": 5,
      "outputs": [
        {
          "output_type": "stream",
          "name": "stdout",
          "text": [
            "Found 1944 images belonging to 10 classes.\n",
            "Found 699 images belonging to 10 classes.\n"
          ]
        }
      ]
    },
    {
      "cell_type": "code",
      "source": [
        "#Tên con vật sẽ đc mã hóa lại thành số\n",
        "class_names = train_generator.class_indices\n",
        "\n",
        "print(class_names)"
      ],
      "metadata": {
        "colab": {
          "base_uri": "https://localhost:8080/"
        },
        "id": "HM65aBVD111c",
        "outputId": "9502ef6a-5398-4571-b70f-8273052d1f43"
      },
      "execution_count": 6,
      "outputs": [
        {
          "output_type": "stream",
          "name": "stdout",
          "text": [
            "{'fruit-bores': 0, 'grasshopper': 1, 'leafroller': 2, 'maybug': 3, 'mealybug-disease': 4, 'moth': 5, 'red-spider': 6, 'snail': 7, 'stag-beetle': 8, 'stinkbug': 9}\n"
          ]
        }
      ]
    },
    {
      "cell_type": "code",
      "source": [
        "WIDTH = 44\n",
        "HEIGHT = 44\n",
        "EPOCHS = 30\n",
        "#Trích đặt trưng Deep Learning\n",
        "model = Sequential()\n",
        "\n",
        "model.add(Convolution2D(filters=32, kernel_size=(5,5), padding='same', activation='relu', input_shape=(WIDTH, HEIGHT, 3)))\n",
        "model.add(MaxPooling2D(strides=2))\n",
        "model.add(Convolution2D(filters=48, kernel_size=(5,5), padding='valid', activation='relu'))\n",
        "model.add(MaxPooling2D(strides=2))\n",
        "model.add(Flatten())\n",
        "model.add(Dense(256, activation='relu'))\n",
        "model.add(Dense(84, activation='relu'))\n",
        "model.add(Dense(len(class_names), activation='softmax'))\n",
        "\n",
        "model.compile(loss='categorical_crossentropy', optimizer='adam', metrics=['accuracy'])\n",
        "\n",
        "print(model.summary())\n",
        "\n",
        "#model.fit(train_generator, validation_data=val_generator, batch_size=100, epochs=EPOCHS, verbose=1)"
      ],
      "metadata": {
        "colab": {
          "base_uri": "https://localhost:8080/"
        },
        "id": "QPz6UBJk13Fw",
        "outputId": "3e0c2135-99e9-4d9d-add8-a0b4ef00f8fd"
      },
      "execution_count": 7,
      "outputs": [
        {
          "output_type": "stream",
          "name": "stdout",
          "text": [
            "Model: \"sequential\"\n",
            "_________________________________________________________________\n",
            " Layer (type)                Output Shape              Param #   \n",
            "=================================================================\n",
            " conv2d (Conv2D)             (None, 44, 44, 32)        2432      \n",
            "                                                                 \n",
            " max_pooling2d (MaxPooling2  (None, 22, 22, 32)        0         \n",
            " D)                                                              \n",
            "                                                                 \n",
            " conv2d_1 (Conv2D)           (None, 18, 18, 48)        38448     \n",
            "                                                                 \n",
            " max_pooling2d_1 (MaxPoolin  (None, 9, 9, 48)          0         \n",
            " g2D)                                                            \n",
            "                                                                 \n",
            " flatten (Flatten)           (None, 3888)              0         \n",
            "                                                                 \n",
            " dense (Dense)               (None, 256)               995584    \n",
            "                                                                 \n",
            " dense_1 (Dense)             (None, 84)                21588     \n",
            "                                                                 \n",
            " dense_2 (Dense)             (None, 10)                850       \n",
            "                                                                 \n",
            "=================================================================\n",
            "Total params: 1058902 (4.04 MB)\n",
            "Trainable params: 1058902 (4.04 MB)\n",
            "Non-trainable params: 0 (0.00 Byte)\n",
            "_________________________________________________________________\n",
            "None\n"
          ]
        }
      ]
    },
    {
      "cell_type": "code",
      "source": [
        "!pip install scikit-learn"
      ],
      "metadata": {
        "colab": {
          "base_uri": "https://localhost:8080/"
        },
        "id": "X4-988Y5u3QC",
        "outputId": "ae7aabe1-7917-4053-8bc1-c1b7691f824c"
      },
      "execution_count": 8,
      "outputs": [
        {
          "output_type": "stream",
          "name": "stdout",
          "text": [
            "Requirement already satisfied: scikit-learn in /usr/local/lib/python3.10/dist-packages (1.2.2)\n",
            "Requirement already satisfied: numpy>=1.17.3 in /usr/local/lib/python3.10/dist-packages (from scikit-learn) (1.25.2)\n",
            "Requirement already satisfied: scipy>=1.3.2 in /usr/local/lib/python3.10/dist-packages (from scikit-learn) (1.11.4)\n",
            "Requirement already satisfied: joblib>=1.1.1 in /usr/local/lib/python3.10/dist-packages (from scikit-learn) (1.4.0)\n",
            "Requirement already satisfied: threadpoolctl>=2.0.0 in /usr/local/lib/python3.10/dist-packages (from scikit-learn) (3.4.0)\n"
          ]
        }
      ]
    },
    {
      "cell_type": "code",
      "source": [
        "!pip install scikit-learn[tree]"
      ],
      "metadata": {
        "colab": {
          "base_uri": "https://localhost:8080/"
        },
        "id": "nDM8QOimvUPk",
        "outputId": "0b67e360-8f84-4c18-b3b3-b6a0e1b260dc"
      },
      "execution_count": 9,
      "outputs": [
        {
          "output_type": "stream",
          "name": "stdout",
          "text": [
            "Requirement already satisfied: scikit-learn[tree] in /usr/local/lib/python3.10/dist-packages (1.2.2)\n",
            "\u001b[33mWARNING: scikit-learn 1.2.2 does not provide the extra 'tree'\u001b[0m\u001b[33m\n",
            "\u001b[0mRequirement already satisfied: numpy>=1.17.3 in /usr/local/lib/python3.10/dist-packages (from scikit-learn[tree]) (1.25.2)\n",
            "Requirement already satisfied: scipy>=1.3.2 in /usr/local/lib/python3.10/dist-packages (from scikit-learn[tree]) (1.11.4)\n",
            "Requirement already satisfied: joblib>=1.1.1 in /usr/local/lib/python3.10/dist-packages (from scikit-learn[tree]) (1.4.0)\n",
            "Requirement already satisfied: threadpoolctl>=2.0.0 in /usr/local/lib/python3.10/dist-packages (from scikit-learn[tree]) (3.4.0)\n"
          ]
        }
      ]
    },
    {
      "cell_type": "code",
      "source": [
        "# Xay dung cay\n",
        "from sklearn.tree import DecisionTreeClassifier\n",
        "from sklearn.metrics import confusion_matrix\n",
        "from keras.models import Model"
      ],
      "metadata": {
        "id": "pohNrL94PjWx"
      },
      "execution_count": 10,
      "outputs": []
    },
    {
      "cell_type": "code",
      "source": [
        "# Tạo mô hình mới chỉ lấy đặc trưng của tầng Dense\n",
        "new_model = Model(inputs=model.input, outputs=model.get_layer('dense_1').output)"
      ],
      "metadata": {
        "id": "VrlFelzn9HJh"
      },
      "execution_count": 11,
      "outputs": []
    },
    {
      "cell_type": "code",
      "source": [
        "# Lấy đặc trưng của tập huấn luyện và tập validation\n",
        "features_train = new_model.predict(train_generator)\n",
        "features_val = new_model.predict(val_generator)"
      ],
      "metadata": {
        "colab": {
          "base_uri": "https://localhost:8080/"
        },
        "id": "SJ3NHH3B9Rdm",
        "outputId": "44a5067c-c533-47af-cfa4-d44636a0559c"
      },
      "execution_count": 12,
      "outputs": [
        {
          "output_type": "stream",
          "name": "stdout",
          "text": [
            "61/61 [==============================] - 483s 8s/step\n",
            "22/22 [==============================] - 187s 9s/step\n"
          ]
        }
      ]
    },
    {
      "cell_type": "code",
      "source": [
        "# Huấn luyện mô hình DecisionTreeClassifier\n",
        "decision_tree_model = DecisionTreeClassifier(criterion=\"gini\", max_depth=500, min_samples_leaf=20, random_state=42)\n",
        "decision_tree_model.fit(features_train, train_generator.classes)"
      ],
      "metadata": {
        "colab": {
          "base_uri": "https://localhost:8080/",
          "height": 74
        },
        "id": "qMKwOm_MCDA9",
        "outputId": "363644f8-4e65-4037-f8c4-2784aad6f067"
      },
      "execution_count": 13,
      "outputs": [
        {
          "output_type": "execute_result",
          "data": {
            "text/plain": [
              "DecisionTreeClassifier(max_depth=500, min_samples_leaf=20, random_state=42)"
            ],
            "text/html": [
              "<style>#sk-container-id-1 {color: black;background-color: white;}#sk-container-id-1 pre{padding: 0;}#sk-container-id-1 div.sk-toggleable {background-color: white;}#sk-container-id-1 label.sk-toggleable__label {cursor: pointer;display: block;width: 100%;margin-bottom: 0;padding: 0.3em;box-sizing: border-box;text-align: center;}#sk-container-id-1 label.sk-toggleable__label-arrow:before {content: \"▸\";float: left;margin-right: 0.25em;color: #696969;}#sk-container-id-1 label.sk-toggleable__label-arrow:hover:before {color: black;}#sk-container-id-1 div.sk-estimator:hover label.sk-toggleable__label-arrow:before {color: black;}#sk-container-id-1 div.sk-toggleable__content {max-height: 0;max-width: 0;overflow: hidden;text-align: left;background-color: #f0f8ff;}#sk-container-id-1 div.sk-toggleable__content pre {margin: 0.2em;color: black;border-radius: 0.25em;background-color: #f0f8ff;}#sk-container-id-1 input.sk-toggleable__control:checked~div.sk-toggleable__content {max-height: 200px;max-width: 100%;overflow: auto;}#sk-container-id-1 input.sk-toggleable__control:checked~label.sk-toggleable__label-arrow:before {content: \"▾\";}#sk-container-id-1 div.sk-estimator input.sk-toggleable__control:checked~label.sk-toggleable__label {background-color: #d4ebff;}#sk-container-id-1 div.sk-label input.sk-toggleable__control:checked~label.sk-toggleable__label {background-color: #d4ebff;}#sk-container-id-1 input.sk-hidden--visually {border: 0;clip: rect(1px 1px 1px 1px);clip: rect(1px, 1px, 1px, 1px);height: 1px;margin: -1px;overflow: hidden;padding: 0;position: absolute;width: 1px;}#sk-container-id-1 div.sk-estimator {font-family: monospace;background-color: #f0f8ff;border: 1px dotted black;border-radius: 0.25em;box-sizing: border-box;margin-bottom: 0.5em;}#sk-container-id-1 div.sk-estimator:hover {background-color: #d4ebff;}#sk-container-id-1 div.sk-parallel-item::after {content: \"\";width: 100%;border-bottom: 1px solid gray;flex-grow: 1;}#sk-container-id-1 div.sk-label:hover label.sk-toggleable__label {background-color: #d4ebff;}#sk-container-id-1 div.sk-serial::before {content: \"\";position: absolute;border-left: 1px solid gray;box-sizing: border-box;top: 0;bottom: 0;left: 50%;z-index: 0;}#sk-container-id-1 div.sk-serial {display: flex;flex-direction: column;align-items: center;background-color: white;padding-right: 0.2em;padding-left: 0.2em;position: relative;}#sk-container-id-1 div.sk-item {position: relative;z-index: 1;}#sk-container-id-1 div.sk-parallel {display: flex;align-items: stretch;justify-content: center;background-color: white;position: relative;}#sk-container-id-1 div.sk-item::before, #sk-container-id-1 div.sk-parallel-item::before {content: \"\";position: absolute;border-left: 1px solid gray;box-sizing: border-box;top: 0;bottom: 0;left: 50%;z-index: -1;}#sk-container-id-1 div.sk-parallel-item {display: flex;flex-direction: column;z-index: 1;position: relative;background-color: white;}#sk-container-id-1 div.sk-parallel-item:first-child::after {align-self: flex-end;width: 50%;}#sk-container-id-1 div.sk-parallel-item:last-child::after {align-self: flex-start;width: 50%;}#sk-container-id-1 div.sk-parallel-item:only-child::after {width: 0;}#sk-container-id-1 div.sk-dashed-wrapped {border: 1px dashed gray;margin: 0 0.4em 0.5em 0.4em;box-sizing: border-box;padding-bottom: 0.4em;background-color: white;}#sk-container-id-1 div.sk-label label {font-family: monospace;font-weight: bold;display: inline-block;line-height: 1.2em;}#sk-container-id-1 div.sk-label-container {text-align: center;}#sk-container-id-1 div.sk-container {/* jupyter's `normalize.less` sets `[hidden] { display: none; }` but bootstrap.min.css set `[hidden] { display: none !important; }` so we also need the `!important` here to be able to override the default hidden behavior on the sphinx rendered scikit-learn.org. See: https://github.com/scikit-learn/scikit-learn/issues/21755 */display: inline-block !important;position: relative;}#sk-container-id-1 div.sk-text-repr-fallback {display: none;}</style><div id=\"sk-container-id-1\" class=\"sk-top-container\"><div class=\"sk-text-repr-fallback\"><pre>DecisionTreeClassifier(max_depth=500, min_samples_leaf=20, random_state=42)</pre><b>In a Jupyter environment, please rerun this cell to show the HTML representation or trust the notebook. <br />On GitHub, the HTML representation is unable to render, please try loading this page with nbviewer.org.</b></div><div class=\"sk-container\" hidden><div class=\"sk-item\"><div class=\"sk-estimator sk-toggleable\"><input class=\"sk-toggleable__control sk-hidden--visually\" id=\"sk-estimator-id-1\" type=\"checkbox\" checked><label for=\"sk-estimator-id-1\" class=\"sk-toggleable__label sk-toggleable__label-arrow\">DecisionTreeClassifier</label><div class=\"sk-toggleable__content\"><pre>DecisionTreeClassifier(max_depth=500, min_samples_leaf=20, random_state=42)</pre></div></div></div></div></div>"
            ]
          },
          "metadata": {},
          "execution_count": 13
        }
      ]
    },
    {
      "cell_type": "code",
      "source": [
        "# Đánh giá độ chính xác của mô hình Decision Tree trên tập validation\n",
        "accuracy_decision_tree = decision_tree_model.score(features_val, val_generator.classes)\n",
        "print(\"Accuracy of Decision Tree model on validation set:\", accuracy_decision_tree)"
      ],
      "metadata": {
        "colab": {
          "base_uri": "https://localhost:8080/"
        },
        "id": "u3Uo0w6dCii_",
        "outputId": "4b401edd-4f32-4d32-bc84-a32bb51f8048"
      },
      "execution_count": 14,
      "outputs": [
        {
          "output_type": "stream",
          "name": "stdout",
          "text": [
            "Accuracy of Decision Tree model on validation set: 0.12160228898426323\n"
          ]
        }
      ]
    },
    {
      "cell_type": "code",
      "source": [
        "import cv2\n",
        "# Đọc ảnh thực tế\n",
        "image_path = '/content/drive/MyDrive/KKDL/dataset_classifier/testing/moth/moth_15.jpg'\n",
        "image = cv2.imread(image_path)"
      ],
      "metadata": {
        "id": "uD0iBKOhDCG5"
      },
      "execution_count": 15,
      "outputs": []
    },
    {
      "cell_type": "code",
      "source": [
        "# Resize ảnh về kích thước mà mô hình yêu cầu (WIDTH, HEIGHT)\n",
        "resized_image = cv2.resize(image, (WIDTH, HEIGHT))\n",
        "# Chuẩn hóa ảnh\n",
        "new_image_array = resized_image / 255.0"
      ],
      "metadata": {
        "id": "odFgebpDDVcs"
      },
      "execution_count": 16,
      "outputs": []
    },
    {
      "cell_type": "code",
      "source": [
        "# Lấy đặc trưng của ảnh mới\n",
        "new_image_feature = new_model.predict(new_image_array.reshape(1, WIDTH, HEIGHT, 3))"
      ],
      "metadata": {
        "colab": {
          "base_uri": "https://localhost:8080/"
        },
        "id": "MfJOlCW6DZT1",
        "outputId": "d289ce67-5b49-4a51-ba46-10ec278b4c0e"
      },
      "execution_count": 17,
      "outputs": [
        {
          "output_type": "stream",
          "name": "stdout",
          "text": [
            "1/1 [==============================] - 0s 238ms/step\n"
          ]
        }
      ]
    },
    {
      "cell_type": "code",
      "source": [
        "# Dự đoán\n",
        "prediction = decision_tree_model.predict(new_image_feature)\n",
        "print(\"Predicted class for the new image:\", prediction)"
      ],
      "metadata": {
        "colab": {
          "base_uri": "https://localhost:8080/"
        },
        "id": "fpWgkWClDb05",
        "outputId": "7b067692-3b32-484f-a492-e9839655e096"
      },
      "execution_count": 18,
      "outputs": [
        {
          "output_type": "stream",
          "name": "stdout",
          "text": [
            "Predicted class for the new image: [4]\n"
          ]
        }
      ]
    },
    {
      "cell_type": "code",
      "source": [
        "class_names = train_generator.class_indices\n",
        "\n",
        "print(class_names)"
      ],
      "metadata": {
        "colab": {
          "base_uri": "https://localhost:8080/"
        },
        "id": "auI-6CpJFcCe",
        "outputId": "a1815919-221f-44bd-d4d2-b05cb8b327bd"
      },
      "execution_count": null,
      "outputs": [
        {
          "output_type": "stream",
          "name": "stdout",
          "text": [
            "{'fruit-bores': 0, 'grasshopper': 1, 'leafroller': 2, 'maybug': 3, 'mealybug-disease': 4, 'moth': 5, 'red-spider': 6, 'snail': 7, 'stag-beetle': 8, 'stinkbug': 9}\n"
          ]
        }
      ]
    },
    {
      "cell_type": "code",
      "source": [
        "import numpy as np\n",
        "from keras.preprocessing import image\n",
        "from keras.applications.imagenet_utils import preprocess_input\n",
        "import matplotlib.pyplot as plt\n",
        "\n",
        "def predict_and_verify(model, class_names, image_path):\n",
        "    global WIDTH\n",
        "    global HEIGHT\n",
        "\n",
        "    img = image.load_img(image_path, target_size=(WIDTH, HEIGHT))  # Thay đổi kích thước theo kiến trúc LeNet\n",
        "\n",
        "    # Chuyển ảnh thành mảng NumPy\n",
        "    img_array = image.img_to_array(img)\n",
        "\n",
        "    # Chuẩn hóa giá trị pixel về khoảng [0, 1]\n",
        "    img_array /= 255.0\n",
        "\n",
        "    # Thêm một chiều để tạo thành batch (nếu cần)\n",
        "    img_array = np.expand_dims(img_array, axis=0)\n",
        "\n",
        "    # Dự đoán lớp của ảnh\n",
        "    predictions = model.predict(img_array)\n",
        "    predicted_class_index = np.argmax(predictions)\n",
        "    predicted_class_name = list(class_names.keys())[predicted_class_index]\n",
        "\n",
        "    # In ra kết quả dự đoán và xác suất của các lớp\n",
        "    print(f\"Predicted class: {predicted_class_name}\")\n",
        "    print(f\"Class probabilities: {predictions[0]}\")\n",
        "\n",
        "    # Hiển thị ảnh để kiểm tra\n",
        "    plt.imshow(img)\n",
        "    plt.axis('off')\n",
        "    plt.show()\n",
        "\n",
        "# Sử dụng hàm để dự đoán và xác minh kết quả\n",
        "image_path_to_verify = '/content/drive/MyDrive/KKDL/dataset_classifier/testing/moth/moth_158.jpg'\n",
        "# predict_and_verify(model, train_generator.class_indices, image_path_to_verify)\n",
        "class_names = {\n",
        "    'fruit-bores': 0,\n",
        "    'grasshopper': 1,\n",
        "    'leafroller': 2,\n",
        "    'maybug': 3,\n",
        "    'mealybug-disease': 4,\n",
        "    'moth': 5,\n",
        "    'red-spider': 6,\n",
        "    'snail': 7,\n",
        "    'stag-beetle': 8,\n",
        "    'stinkbug': 9\n",
        "}\n",
        "predict_and_verify(model, class_names, image_path_to_verify)"
      ],
      "metadata": {
        "colab": {
          "base_uri": "https://localhost:8080/",
          "height": 479
        },
        "id": "y5wdPkJel0DY",
        "outputId": "069f3d7a-733d-4cf0-d3f7-109bf90c2439"
      },
      "execution_count": 21,
      "outputs": [
        {
          "output_type": "stream",
          "name": "stdout",
          "text": [
            "1/1 [==============================] - 0s 94ms/step\n",
            "Predicted class: stinkbug\n",
            "Class probabilities: [0.06834727 0.09559111 0.09830412 0.09794491 0.10214347 0.11195798\n",
            " 0.09305003 0.10204036 0.11369718 0.1169236 ]\n"
          ]
        },
        {
          "output_type": "display_data",
          "data": {
            "text/plain": [
              "<Figure size 640x480 with 1 Axes>"
            ],
            "image/png": "[encoded data removed]"
          },
          "metadata": {}
        }
      ]
    }
  ],
  "metadata": {
    "colab": {
      "provenance": [],
      "gpuType": "T4"
    },
    "kernelspec": {
      "display_name": "Python 3",
      "name": "python3"
    },
    "language_info": {
      "name": "python"
    },
    "accelerator": "GPU"
  },
  "nbformat": 4,
  "nbformat_minor": 0
}